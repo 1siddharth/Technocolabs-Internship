{
 "cells": [
  {
   "cell_type": "markdown",
   "metadata": {},
   "source": [
    "**Run the following two cells before you begin.**"
   ]
  },
  {
   "cell_type": "code",
   "execution_count": 2,
   "metadata": {},
   "outputs": [
    {
     "data": {
      "application/javascript": [
       "IPython.notebook.set_autosave_interval(10000)"
      ]
     },
     "metadata": {},
     "output_type": "display_data"
    },
    {
     "name": "stdout",
     "output_type": "stream",
     "text": [
      "Autosaving every 10 seconds\n"
     ]
    }
   ],
   "source": [
    "%autosave 10"
   ]
  },
  {
   "cell_type": "code",
   "execution_count": 2,
   "metadata": {},
   "outputs": [],
   "source": [
    "import pandas as pd\n",
    "import numpy as np\n",
    "import matplotlib.pyplot as plt\n",
    "\n",
    "%matplotlib inline\n",
    "\n",
    "df= pd.read_csv(r\"C:\\Users\\Siddharth\\Desktop\\certificates\\internshiptask\\mini-project\\cleaned_data.csv\")\n"
   ]
  },
  {
   "cell_type": "markdown",
   "metadata": {},
   "source": [
    "**Run the following 3 cells to create a list of features, create a train/test split, and instantiate a random forest classifier.**"
   ]
  },
  {
   "cell_type": "code",
   "execution_count": 3,
   "metadata": {},
   "outputs": [
    {
     "data": {
      "text/plain": [
       "['LIMIT_BAL',\n",
       " 'EDUCATION',\n",
       " 'MARRIAGE',\n",
       " 'AGE',\n",
       " 'PAY_1',\n",
       " 'BILL_AMT1',\n",
       " 'BILL_AMT2',\n",
       " 'BILL_AMT3',\n",
       " 'BILL_AMT4',\n",
       " 'BILL_AMT5',\n",
       " 'BILL_AMT6',\n",
       " 'PAY_AMT1',\n",
       " 'PAY_AMT2',\n",
       " 'PAY_AMT3',\n",
       " 'PAY_AMT4',\n",
       " 'PAY_AMT5',\n",
       " 'PAY_AMT6',\n",
       " 'default payment next month']"
      ]
     },
     "execution_count": 3,
     "metadata": {},
     "output_type": "execute_result"
    }
   ],
   "source": [
    "features_response = df.columns.tolist()\n",
    "items_to_remove = ['ID', 'SEX', 'PAY_2', 'PAY_3', 'PAY_4', 'PAY_5', 'PAY_6',\n",
    "                   'EDUCATION_CAT', 'graduate school', 'high school', 'none',\n",
    "                   'others', 'university']\n",
    "features_response = [item for item in features_response if item not in items_to_remove]\n",
    "features_response"
   ]
  },
  {
   "cell_type": "code",
   "execution_count": 4,
   "metadata": {},
   "outputs": [],
   "source": [
    "from sklearn.model_selection import train_test_split\n",
    "\n",
    "X_train, X_test, y_train, y_test = train_test_split(\n",
    "    df[features_response[:-1]].values,\n",
    "    df['default payment next month'].values,\n",
    "    test_size=0.2, random_state=24\n",
    ")"
   ]
  },
  {
   "cell_type": "code",
   "execution_count": 5,
   "metadata": {},
   "outputs": [],
   "source": [
    "from sklearn.ensemble import RandomForestClassifier\n",
    "\n",
    "rf = RandomForestClassifier(\n",
    "    n_estimators=10, criterion='gini', max_depth=3,\n",
    "    min_samples_split=2, min_samples_leaf=1, min_weight_fraction_leaf=0.0,\n",
    "    max_features='auto', max_leaf_nodes=None, min_impurity_decrease=0.0,\n",
    "    min_impurity_split=None, bootstrap=True, oob_score=False, n_jobs=None,\n",
    "    random_state=4, verbose=1, warm_start=False, class_weight=None\n",
    ")"
   ]
  },
  {
   "cell_type": "markdown",
   "metadata": {},
   "source": [
    "**Create a dictionary representing the grid for the `max_depth` and `n_estimators` hyperparameters that will be searched. Include depths of 3, 6, 9, and 12, and 10, 50, 100, and 200 trees.**"
   ]
  },
  {
   "cell_type": "code",
   "execution_count": 6,
   "metadata": {},
   "outputs": [],
   "source": [
    "n_estimators = [10, 50, 100, 200]\n",
    "max_depths =[3,6,9,12]\n",
    "\n",
    "\n",
    "dictt = {\"max_depth\":max_depths , \"n_estimators\":n_estimators}"
   ]
  },
  {
   "cell_type": "markdown",
   "metadata": {},
   "source": [
    "________________________________________________________________\n",
    "**Instantiate a `GridSearchCV` object using the same options that we have previously in this course, but with the dictionary of hyperparameters created above. Set `verbose=2` to see the output for each fit performed.**"
   ]
  },
  {
   "cell_type": "code",
   "execution_count": 7,
   "metadata": {},
   "outputs": [],
   "source": [
    "from sklearn.model_selection import GridSearchCV\n",
    "\n",
    "gridview = GridSearchCV(rf, param_grid=dictt, scoring='roc_auc',\n",
    "                  n_jobs=-1, refit=True, cv=4, verbose=2\n",
    "                   )\n",
    "#return_train_score=True"
   ]
  },
  {
   "cell_type": "markdown",
   "metadata": {},
   "source": [
    "____________________________________________________\n",
    "**Fit the `GridSearchCV` object on the training data.**"
   ]
  },
  {
   "cell_type": "code",
   "execution_count": 8,
   "metadata": {},
   "outputs": [
    {
     "name": "stdout",
     "output_type": "stream",
     "text": [
      "Fitting 4 folds for each of 16 candidates, totalling 64 fits\n"
     ]
    },
    {
     "name": "stderr",
     "output_type": "stream",
     "text": [
      "[Parallel(n_jobs=-1)]: Using backend LokyBackend with 8 concurrent workers.\n",
      "[Parallel(n_jobs=-1)]: Done  25 tasks      | elapsed:   19.7s\n",
      "[Parallel(n_jobs=-1)]: Done  64 out of  64 | elapsed:  1.2min finished\n",
      "[Parallel(n_jobs=1)]: Using backend SequentialBackend with 1 concurrent workers.\n",
      "[Parallel(n_jobs=1)]: Done 200 out of 200 | elapsed:   17.6s finished\n"
     ]
    },
    {
     "data": {
      "text/plain": [
       "GridSearchCV(cv=4,\n",
       "             estimator=RandomForestClassifier(max_depth=3, n_estimators=10,\n",
       "                                              random_state=4, verbose=1),\n",
       "             n_jobs=-1,\n",
       "             param_grid={'max_depth': [3, 6, 9, 12],\n",
       "                         'n_estimators': [10, 50, 100, 200]},\n",
       "             scoring='roc_auc', verbose=2)"
      ]
     },
     "execution_count": 8,
     "metadata": {},
     "output_type": "execute_result"
    }
   ],
   "source": [
    "gridview.get_params()\n",
    "gridview.fit(X_train, y_train)"
   ]
  },
  {
   "cell_type": "markdown",
   "metadata": {},
   "source": [
    "___________________________________________________________\n",
    "**Put the results of the grid search in a pandas DataFrame.**"
   ]
  },
  {
   "cell_type": "code",
   "execution_count": 9,
   "metadata": {
    "scrolled": true
   },
   "outputs": [
    {
     "data": {
      "text/html": [
       "<div>\n",
       "<style scoped>\n",
       "    .dataframe tbody tr th:only-of-type {\n",
       "        vertical-align: middle;\n",
       "    }\n",
       "\n",
       "    .dataframe tbody tr th {\n",
       "        vertical-align: top;\n",
       "    }\n",
       "\n",
       "    .dataframe thead th {\n",
       "        text-align: right;\n",
       "    }\n",
       "</style>\n",
       "<table border=\"1\" class=\"dataframe\">\n",
       "  <thead>\n",
       "    <tr style=\"text-align: right;\">\n",
       "      <th></th>\n",
       "      <th>mean_fit_time</th>\n",
       "      <th>std_fit_time</th>\n",
       "      <th>mean_score_time</th>\n",
       "      <th>std_score_time</th>\n",
       "      <th>param_max_depth</th>\n",
       "      <th>param_n_estimators</th>\n",
       "      <th>params</th>\n",
       "      <th>split0_test_score</th>\n",
       "      <th>split1_test_score</th>\n",
       "      <th>split2_test_score</th>\n",
       "      <th>split3_test_score</th>\n",
       "      <th>mean_test_score</th>\n",
       "      <th>std_test_score</th>\n",
       "      <th>rank_test_score</th>\n",
       "    </tr>\n",
       "  </thead>\n",
       "  <tbody>\n",
       "    <tr>\n",
       "      <th>0</th>\n",
       "      <td>0.422085</td>\n",
       "      <td>0.032924</td>\n",
       "      <td>0.034917</td>\n",
       "      <td>0.016052</td>\n",
       "      <td>3</td>\n",
       "      <td>10</td>\n",
       "      <td>{'max_depth': 3, 'n_estimators': 10}</td>\n",
       "      <td>0.739183</td>\n",
       "      <td>0.746599</td>\n",
       "      <td>0.772127</td>\n",
       "      <td>0.771322</td>\n",
       "      <td>0.757308</td>\n",
       "      <td>0.014656</td>\n",
       "      <td>15</td>\n",
       "    </tr>\n",
       "    <tr>\n",
       "      <th>1</th>\n",
       "      <td>1.953663</td>\n",
       "      <td>0.017102</td>\n",
       "      <td>0.079393</td>\n",
       "      <td>0.005293</td>\n",
       "      <td>3</td>\n",
       "      <td>50</td>\n",
       "      <td>{'max_depth': 3, 'n_estimators': 50}</td>\n",
       "      <td>0.748009</td>\n",
       "      <td>0.755878</td>\n",
       "      <td>0.779465</td>\n",
       "      <td>0.771250</td>\n",
       "      <td>0.763651</td>\n",
       "      <td>0.012379</td>\n",
       "      <td>12</td>\n",
       "    </tr>\n",
       "    <tr>\n",
       "      <th>2</th>\n",
       "      <td>4.360774</td>\n",
       "      <td>0.196602</td>\n",
       "      <td>0.218792</td>\n",
       "      <td>0.046181</td>\n",
       "      <td>3</td>\n",
       "      <td>100</td>\n",
       "      <td>{'max_depth': 3, 'n_estimators': 100}</td>\n",
       "      <td>0.747221</td>\n",
       "      <td>0.753924</td>\n",
       "      <td>0.779195</td>\n",
       "      <td>0.770937</td>\n",
       "      <td>0.762819</td>\n",
       "      <td>0.012811</td>\n",
       "      <td>13</td>\n",
       "    </tr>\n",
       "    <tr>\n",
       "      <th>3</th>\n",
       "      <td>8.268493</td>\n",
       "      <td>0.341598</td>\n",
       "      <td>0.273905</td>\n",
       "      <td>0.028486</td>\n",
       "      <td>3</td>\n",
       "      <td>200</td>\n",
       "      <td>{'max_depth': 3, 'n_estimators': 200}</td>\n",
       "      <td>0.747454</td>\n",
       "      <td>0.753057</td>\n",
       "      <td>0.777644</td>\n",
       "      <td>0.771729</td>\n",
       "      <td>0.762471</td>\n",
       "      <td>0.012550</td>\n",
       "      <td>14</td>\n",
       "    </tr>\n",
       "    <tr>\n",
       "      <th>4</th>\n",
       "      <td>0.936756</td>\n",
       "      <td>0.064451</td>\n",
       "      <td>0.032870</td>\n",
       "      <td>0.005812</td>\n",
       "      <td>6</td>\n",
       "      <td>10</td>\n",
       "      <td>{'max_depth': 6, 'n_estimators': 10}</td>\n",
       "      <td>0.752905</td>\n",
       "      <td>0.758904</td>\n",
       "      <td>0.780036</td>\n",
       "      <td>0.774017</td>\n",
       "      <td>0.766466</td>\n",
       "      <td>0.010980</td>\n",
       "      <td>11</td>\n",
       "    </tr>\n",
       "    <tr>\n",
       "      <th>5</th>\n",
       "      <td>3.721239</td>\n",
       "      <td>0.284141</td>\n",
       "      <td>0.101793</td>\n",
       "      <td>0.015189</td>\n",
       "      <td>6</td>\n",
       "      <td>50</td>\n",
       "      <td>{'max_depth': 6, 'n_estimators': 50}</td>\n",
       "      <td>0.760089</td>\n",
       "      <td>0.765251</td>\n",
       "      <td>0.788567</td>\n",
       "      <td>0.778669</td>\n",
       "      <td>0.773144</td>\n",
       "      <td>0.011193</td>\n",
       "      <td>8</td>\n",
       "    </tr>\n",
       "    <tr>\n",
       "      <th>6</th>\n",
       "      <td>6.974642</td>\n",
       "      <td>0.373007</td>\n",
       "      <td>0.178005</td>\n",
       "      <td>0.028633</td>\n",
       "      <td>6</td>\n",
       "      <td>100</td>\n",
       "      <td>{'max_depth': 6, 'n_estimators': 100}</td>\n",
       "      <td>0.760964</td>\n",
       "      <td>0.765515</td>\n",
       "      <td>0.788793</td>\n",
       "      <td>0.778936</td>\n",
       "      <td>0.773552</td>\n",
       "      <td>0.011004</td>\n",
       "      <td>7</td>\n",
       "    </tr>\n",
       "    <tr>\n",
       "      <th>7</th>\n",
       "      <td>13.709345</td>\n",
       "      <td>0.611309</td>\n",
       "      <td>0.332230</td>\n",
       "      <td>0.019968</td>\n",
       "      <td>6</td>\n",
       "      <td>200</td>\n",
       "      <td>{'max_depth': 6, 'n_estimators': 200}</td>\n",
       "      <td>0.761481</td>\n",
       "      <td>0.765319</td>\n",
       "      <td>0.787854</td>\n",
       "      <td>0.779745</td>\n",
       "      <td>0.773600</td>\n",
       "      <td>0.010682</td>\n",
       "      <td>6</td>\n",
       "    </tr>\n",
       "    <tr>\n",
       "      <th>8</th>\n",
       "      <td>0.991793</td>\n",
       "      <td>0.036585</td>\n",
       "      <td>0.035495</td>\n",
       "      <td>0.007518</td>\n",
       "      <td>9</td>\n",
       "      <td>10</td>\n",
       "      <td>{'max_depth': 9, 'n_estimators': 10}</td>\n",
       "      <td>0.757853</td>\n",
       "      <td>0.755444</td>\n",
       "      <td>0.781544</td>\n",
       "      <td>0.773823</td>\n",
       "      <td>0.767166</td>\n",
       "      <td>0.010899</td>\n",
       "      <td>10</td>\n",
       "    </tr>\n",
       "    <tr>\n",
       "      <th>9</th>\n",
       "      <td>4.823441</td>\n",
       "      <td>0.368402</td>\n",
       "      <td>0.125323</td>\n",
       "      <td>0.020578</td>\n",
       "      <td>9</td>\n",
       "      <td>50</td>\n",
       "      <td>{'max_depth': 9, 'n_estimators': 50}</td>\n",
       "      <td>0.763956</td>\n",
       "      <td>0.764420</td>\n",
       "      <td>0.786690</td>\n",
       "      <td>0.780255</td>\n",
       "      <td>0.773830</td>\n",
       "      <td>0.009908</td>\n",
       "      <td>4</td>\n",
       "    </tr>\n",
       "    <tr>\n",
       "      <th>10</th>\n",
       "      <td>10.257849</td>\n",
       "      <td>0.839997</td>\n",
       "      <td>0.266297</td>\n",
       "      <td>0.076608</td>\n",
       "      <td>9</td>\n",
       "      <td>100</td>\n",
       "      <td>{'max_depth': 9, 'n_estimators': 100}</td>\n",
       "      <td>0.763872</td>\n",
       "      <td>0.765788</td>\n",
       "      <td>0.789016</td>\n",
       "      <td>0.781199</td>\n",
       "      <td>0.774969</td>\n",
       "      <td>0.010530</td>\n",
       "      <td>3</td>\n",
       "    </tr>\n",
       "    <tr>\n",
       "      <th>11</th>\n",
       "      <td>20.910237</td>\n",
       "      <td>0.919125</td>\n",
       "      <td>0.549542</td>\n",
       "      <td>0.191103</td>\n",
       "      <td>9</td>\n",
       "      <td>200</td>\n",
       "      <td>{'max_depth': 9, 'n_estimators': 200}</td>\n",
       "      <td>0.764963</td>\n",
       "      <td>0.767541</td>\n",
       "      <td>0.790255</td>\n",
       "      <td>0.782034</td>\n",
       "      <td>0.776199</td>\n",
       "      <td>0.010402</td>\n",
       "      <td>1</td>\n",
       "    </tr>\n",
       "    <tr>\n",
       "      <th>12</th>\n",
       "      <td>1.287233</td>\n",
       "      <td>0.090236</td>\n",
       "      <td>0.048309</td>\n",
       "      <td>0.021379</td>\n",
       "      <td>12</td>\n",
       "      <td>10</td>\n",
       "      <td>{'max_depth': 12, 'n_estimators': 10}</td>\n",
       "      <td>0.754513</td>\n",
       "      <td>0.751116</td>\n",
       "      <td>0.764061</td>\n",
       "      <td>0.759223</td>\n",
       "      <td>0.757228</td>\n",
       "      <td>0.004884</td>\n",
       "      <td>16</td>\n",
       "    </tr>\n",
       "    <tr>\n",
       "      <th>13</th>\n",
       "      <td>7.068642</td>\n",
       "      <td>0.850879</td>\n",
       "      <td>0.180154</td>\n",
       "      <td>0.062822</td>\n",
       "      <td>12</td>\n",
       "      <td>50</td>\n",
       "      <td>{'max_depth': 12, 'n_estimators': 50}</td>\n",
       "      <td>0.763750</td>\n",
       "      <td>0.763663</td>\n",
       "      <td>0.780781</td>\n",
       "      <td>0.778086</td>\n",
       "      <td>0.771570</td>\n",
       "      <td>0.007921</td>\n",
       "      <td>9</td>\n",
       "    </tr>\n",
       "    <tr>\n",
       "      <th>14</th>\n",
       "      <td>12.777754</td>\n",
       "      <td>0.715393</td>\n",
       "      <td>0.300543</td>\n",
       "      <td>0.083520</td>\n",
       "      <td>12</td>\n",
       "      <td>100</td>\n",
       "      <td>{'max_depth': 12, 'n_estimators': 100}</td>\n",
       "      <td>0.765665</td>\n",
       "      <td>0.765061</td>\n",
       "      <td>0.783413</td>\n",
       "      <td>0.781119</td>\n",
       "      <td>0.773815</td>\n",
       "      <td>0.008493</td>\n",
       "      <td>5</td>\n",
       "    </tr>\n",
       "    <tr>\n",
       "      <th>15</th>\n",
       "      <td>21.420045</td>\n",
       "      <td>0.712550</td>\n",
       "      <td>0.400241</td>\n",
       "      <td>0.026447</td>\n",
       "      <td>12</td>\n",
       "      <td>200</td>\n",
       "      <td>{'max_depth': 12, 'n_estimators': 200}</td>\n",
       "      <td>0.765910</td>\n",
       "      <td>0.766963</td>\n",
       "      <td>0.785611</td>\n",
       "      <td>0.783513</td>\n",
       "      <td>0.775499</td>\n",
       "      <td>0.009101</td>\n",
       "      <td>2</td>\n",
       "    </tr>\n",
       "  </tbody>\n",
       "</table>\n",
       "</div>"
      ],
      "text/plain": [
       "    mean_fit_time  std_fit_time  mean_score_time  std_score_time  \\\n",
       "0        0.422085      0.032924         0.034917        0.016052   \n",
       "1        1.953663      0.017102         0.079393        0.005293   \n",
       "2        4.360774      0.196602         0.218792        0.046181   \n",
       "3        8.268493      0.341598         0.273905        0.028486   \n",
       "4        0.936756      0.064451         0.032870        0.005812   \n",
       "5        3.721239      0.284141         0.101793        0.015189   \n",
       "6        6.974642      0.373007         0.178005        0.028633   \n",
       "7       13.709345      0.611309         0.332230        0.019968   \n",
       "8        0.991793      0.036585         0.035495        0.007518   \n",
       "9        4.823441      0.368402         0.125323        0.020578   \n",
       "10      10.257849      0.839997         0.266297        0.076608   \n",
       "11      20.910237      0.919125         0.549542        0.191103   \n",
       "12       1.287233      0.090236         0.048309        0.021379   \n",
       "13       7.068642      0.850879         0.180154        0.062822   \n",
       "14      12.777754      0.715393         0.300543        0.083520   \n",
       "15      21.420045      0.712550         0.400241        0.026447   \n",
       "\n",
       "   param_max_depth param_n_estimators                                  params  \\\n",
       "0                3                 10    {'max_depth': 3, 'n_estimators': 10}   \n",
       "1                3                 50    {'max_depth': 3, 'n_estimators': 50}   \n",
       "2                3                100   {'max_depth': 3, 'n_estimators': 100}   \n",
       "3                3                200   {'max_depth': 3, 'n_estimators': 200}   \n",
       "4                6                 10    {'max_depth': 6, 'n_estimators': 10}   \n",
       "5                6                 50    {'max_depth': 6, 'n_estimators': 50}   \n",
       "6                6                100   {'max_depth': 6, 'n_estimators': 100}   \n",
       "7                6                200   {'max_depth': 6, 'n_estimators': 200}   \n",
       "8                9                 10    {'max_depth': 9, 'n_estimators': 10}   \n",
       "9                9                 50    {'max_depth': 9, 'n_estimators': 50}   \n",
       "10               9                100   {'max_depth': 9, 'n_estimators': 100}   \n",
       "11               9                200   {'max_depth': 9, 'n_estimators': 200}   \n",
       "12              12                 10   {'max_depth': 12, 'n_estimators': 10}   \n",
       "13              12                 50   {'max_depth': 12, 'n_estimators': 50}   \n",
       "14              12                100  {'max_depth': 12, 'n_estimators': 100}   \n",
       "15              12                200  {'max_depth': 12, 'n_estimators': 200}   \n",
       "\n",
       "    split0_test_score  split1_test_score  split2_test_score  \\\n",
       "0            0.739183           0.746599           0.772127   \n",
       "1            0.748009           0.755878           0.779465   \n",
       "2            0.747221           0.753924           0.779195   \n",
       "3            0.747454           0.753057           0.777644   \n",
       "4            0.752905           0.758904           0.780036   \n",
       "5            0.760089           0.765251           0.788567   \n",
       "6            0.760964           0.765515           0.788793   \n",
       "7            0.761481           0.765319           0.787854   \n",
       "8            0.757853           0.755444           0.781544   \n",
       "9            0.763956           0.764420           0.786690   \n",
       "10           0.763872           0.765788           0.789016   \n",
       "11           0.764963           0.767541           0.790255   \n",
       "12           0.754513           0.751116           0.764061   \n",
       "13           0.763750           0.763663           0.780781   \n",
       "14           0.765665           0.765061           0.783413   \n",
       "15           0.765910           0.766963           0.785611   \n",
       "\n",
       "    split3_test_score  mean_test_score  std_test_score  rank_test_score  \n",
       "0            0.771322         0.757308        0.014656               15  \n",
       "1            0.771250         0.763651        0.012379               12  \n",
       "2            0.770937         0.762819        0.012811               13  \n",
       "3            0.771729         0.762471        0.012550               14  \n",
       "4            0.774017         0.766466        0.010980               11  \n",
       "5            0.778669         0.773144        0.011193                8  \n",
       "6            0.778936         0.773552        0.011004                7  \n",
       "7            0.779745         0.773600        0.010682                6  \n",
       "8            0.773823         0.767166        0.010899               10  \n",
       "9            0.780255         0.773830        0.009908                4  \n",
       "10           0.781199         0.774969        0.010530                3  \n",
       "11           0.782034         0.776199        0.010402                1  \n",
       "12           0.759223         0.757228        0.004884               16  \n",
       "13           0.778086         0.771570        0.007921                9  \n",
       "14           0.781119         0.773815        0.008493                5  \n",
       "15           0.783513         0.775499        0.009101                2  "
      ]
     },
     "execution_count": 9,
     "metadata": {},
     "output_type": "execute_result"
    }
   ],
   "source": [
    "result = pd.DataFrame(gridview.cv_results_)\n",
    "result"
   ]
  },
  {
   "cell_type": "markdown",
   "metadata": {},
   "source": [
    "**Find the best hyperparameters from the cross-validation.**"
   ]
  },
  {
   "cell_type": "code",
   "execution_count": 10,
   "metadata": {},
   "outputs": [
    {
     "data": {
      "text/plain": [
       "0     0.757308\n",
       "1     0.763651\n",
       "2     0.762819\n",
       "3     0.762471\n",
       "4     0.766466\n",
       "5     0.773144\n",
       "6     0.773552\n",
       "7     0.773600\n",
       "8     0.767166\n",
       "9     0.773830\n",
       "10    0.774969\n",
       "11    0.776199\n",
       "12    0.757228\n",
       "13    0.771570\n",
       "14    0.773815\n",
       "15    0.775499\n",
       "Name: mean_test_score, dtype: float64"
      ]
     },
     "execution_count": 10,
     "metadata": {},
     "output_type": "execute_result"
    }
   ],
   "source": [
    "result.max()\n",
    "result.mean_test_score"
   ]
  },
  {
   "cell_type": "markdown",
   "metadata": {},
   "source": [
    "________________________________________________________________________________________________________\n",
    "**Create a `pcolormesh` visualization of the mean testing score for each combination of hyperparameters.**\n",
    "\n",
    "<details>\n",
    "    <summary>Hint:</summary>\n",
    "    Remember to reshape the values of the mean testing scores to be a two-dimensional 4x4 grid.\n",
    "</details>"
   ]
  },
  {
   "cell_type": "code",
   "execution_count": 11,
   "metadata": {},
   "outputs": [],
   "source": [
    "# Create a 5x5 grid\n",
    "#plt.pcolormesh()\n",
    "x, y = np.meshgrid(range(5), range(5))\n",
    "aa= result[\"mean_test_score\"].values.reshape(4,4)\n"
   ]
  },
  {
   "cell_type": "code",
   "execution_count": 12,
   "metadata": {},
   "outputs": [],
   "source": [
    "# Set color map to `plt.cm.jet`\n",
    "\n"
   ]
  },
  {
   "cell_type": "code",
   "execution_count": 13,
   "metadata": {
    "eid": "f0c62"
   },
   "outputs": [
    {
     "data": {
      "text/plain": [
       "Text(0, 0.5, 'Scale for maximum depth')"
      ]
     },
     "execution_count": 13,
     "metadata": {},
     "output_type": "execute_result"
    },
    {
     "data": {
      "image/png": "[encoded data removed]",
      "text/plain": [
       "<Figure size 432x288 with 2 Axes>"
      ]
     },
     "metadata": {
      "needs_background": "light"
     },
     "output_type": "display_data"
    }
   ],
   "source": [
    "# Visualize pcolormesh\n",
    "fig = plt.axes()\n",
    "graph = fig.pcolormesh(x, y,aa, cmap=plt.cm.jet)\n",
    "plt.colorbar(graph, label='Average testing ROC AUC')\n",
    "fig.set_aspect('equal')\n",
    "fig.set_xticks([0.5, 1.5, 2.5, 3.5])\n",
    "fig.set_yticks([0.5, 1.5, 2.5, 3.5])\n",
    "fig.set_xticklabels([str(label) for label in dictt['n_estimators']])\n",
    "fig.set_yticklabels([str(label) for label in dictt['max_depth']])\n",
    "fig.set_xlabel('Scale for number of trees')\n",
    "fig.set_ylabel('Scale for maximum depth')"
   ]
  },
  {
   "cell_type": "markdown",
   "metadata": {},
   "source": [
    "________________________________________________________________________________________________________\n",
    "**Conclude which set of hyperparameters to use.**"
   ]
  },
  {
   "cell_type": "code",
   "execution_count": 15,
   "metadata": {},
   "outputs": [],
   "source": [
    "# Create a dataframe of the feature names and importance\n",
    "feat_imp_df_act = pd.DataFrame({\n",
    "    'Feature name':features_response[:-1],\n",
    "    'Importance':gridview.best_estimator_.feature_importances_\n",
    "})"
   ]
  },
  {
   "cell_type": "code",
   "execution_count": 16,
   "metadata": {},
   "outputs": [
    {
     "data": {
      "text/html": [
       "<div>\n",
       "<style scoped>\n",
       "    .dataframe tbody tr th:only-of-type {\n",
       "        vertical-align: middle;\n",
       "    }\n",
       "\n",
       "    .dataframe tbody tr th {\n",
       "        vertical-align: top;\n",
       "    }\n",
       "\n",
       "    .dataframe thead th {\n",
       "        text-align: right;\n",
       "    }\n",
       "</style>\n",
       "<table border=\"1\" class=\"dataframe\">\n",
       "  <thead>\n",
       "    <tr style=\"text-align: right;\">\n",
       "      <th></th>\n",
       "      <th>Feature name</th>\n",
       "      <th>Importance</th>\n",
       "    </tr>\n",
       "  </thead>\n",
       "  <tbody>\n",
       "    <tr>\n",
       "      <th>4</th>\n",
       "      <td>PAY_1</td>\n",
       "      <td>0.437439</td>\n",
       "    </tr>\n",
       "    <tr>\n",
       "      <th>0</th>\n",
       "      <td>LIMIT_BAL</td>\n",
       "      <td>0.059961</td>\n",
       "    </tr>\n",
       "    <tr>\n",
       "      <th>11</th>\n",
       "      <td>PAY_AMT1</td>\n",
       "      <td>0.059434</td>\n",
       "    </tr>\n",
       "    <tr>\n",
       "      <th>12</th>\n",
       "      <td>PAY_AMT2</td>\n",
       "      <td>0.045518</td>\n",
       "    </tr>\n",
       "    <tr>\n",
       "      <th>13</th>\n",
       "      <td>PAY_AMT3</td>\n",
       "      <td>0.043299</td>\n",
       "    </tr>\n",
       "    <tr>\n",
       "      <th>5</th>\n",
       "      <td>BILL_AMT1</td>\n",
       "      <td>0.042195</td>\n",
       "    </tr>\n",
       "    <tr>\n",
       "      <th>6</th>\n",
       "      <td>BILL_AMT2</td>\n",
       "      <td>0.041562</td>\n",
       "    </tr>\n",
       "    <tr>\n",
       "      <th>7</th>\n",
       "      <td>BILL_AMT3</td>\n",
       "      <td>0.037268</td>\n",
       "    </tr>\n",
       "    <tr>\n",
       "      <th>14</th>\n",
       "      <td>PAY_AMT4</td>\n",
       "      <td>0.034321</td>\n",
       "    </tr>\n",
       "    <tr>\n",
       "      <th>8</th>\n",
       "      <td>BILL_AMT4</td>\n",
       "      <td>0.034123</td>\n",
       "    </tr>\n",
       "    <tr>\n",
       "      <th>10</th>\n",
       "      <td>BILL_AMT6</td>\n",
       "      <td>0.033839</td>\n",
       "    </tr>\n",
       "    <tr>\n",
       "      <th>9</th>\n",
       "      <td>BILL_AMT5</td>\n",
       "      <td>0.032413</td>\n",
       "    </tr>\n",
       "    <tr>\n",
       "      <th>15</th>\n",
       "      <td>PAY_AMT5</td>\n",
       "      <td>0.030734</td>\n",
       "    </tr>\n",
       "    <tr>\n",
       "      <th>16</th>\n",
       "      <td>PAY_AMT6</td>\n",
       "      <td>0.029070</td>\n",
       "    </tr>\n",
       "    <tr>\n",
       "      <th>3</th>\n",
       "      <td>AGE</td>\n",
       "      <td>0.026774</td>\n",
       "    </tr>\n",
       "    <tr>\n",
       "      <th>1</th>\n",
       "      <td>EDUCATION</td>\n",
       "      <td>0.007545</td>\n",
       "    </tr>\n",
       "    <tr>\n",
       "      <th>2</th>\n",
       "      <td>MARRIAGE</td>\n",
       "      <td>0.004504</td>\n",
       "    </tr>\n",
       "  </tbody>\n",
       "</table>\n",
       "</div>"
      ],
      "text/plain": [
       "   Feature name  Importance\n",
       "4         PAY_1    0.437439\n",
       "0     LIMIT_BAL    0.059961\n",
       "11     PAY_AMT1    0.059434\n",
       "12     PAY_AMT2    0.045518\n",
       "13     PAY_AMT3    0.043299\n",
       "5     BILL_AMT1    0.042195\n",
       "6     BILL_AMT2    0.041562\n",
       "7     BILL_AMT3    0.037268\n",
       "14     PAY_AMT4    0.034321\n",
       "8     BILL_AMT4    0.034123\n",
       "10    BILL_AMT6    0.033839\n",
       "9     BILL_AMT5    0.032413\n",
       "15     PAY_AMT5    0.030734\n",
       "16     PAY_AMT6    0.029070\n",
       "3           AGE    0.026774\n",
       "1     EDUCATION    0.007545\n",
       "2      MARRIAGE    0.004504"
      ]
     },
     "execution_count": 16,
     "metadata": {},
     "output_type": "execute_result"
    }
   ],
   "source": [
    "# Sort values by importance\n",
    "feat_imp_df_act.sort_values('Importance', ascending=False)"
   ]
  },
  {
   "cell_type": "code",
   "execution_count": null,
   "metadata": {},
   "outputs": [],
   "source": []
  }
 ],
 "metadata": {
  "kernelspec": {
   "display_name": "Python 3",
   "language": "python",
   "name": "python3"
  },
  "language_info": {
   "codemirror_mode": {
    "name": "ipython",
    "version": 3
   },
   "file_extension": ".py",
   "mimetype": "text/x-python",
   "name": "python",
   "nbconvert_exporter": "python",
   "pygments_lexer": "ipython3",
   "version": "3.7.5"
  }
 },
 "nbformat": 4,
 "nbformat_minor": 2
}
